{
 "cells": [
  {
   "cell_type": "markdown",
   "metadata": {},
   "source": [
    "# **`Introduction`**"
   ]
  },
  {
   "cell_type": "markdown",
   "metadata": {
    "tags": [
     "photo"
    ]
   },
   "source": [
    "<p align=\"center\">\n",
    "  <img src=\"https://francis.naukas.com/files/2017/10/Dibujo20171002-Geoffrey-Hinton-deep-learning-father-mit-technology-review-580x367.png\" alt=\"hands on machine learning\">\n",
    "</p>\n",
    "\n"
   ]
  },
  {
   "cell_type": "markdown",
   "metadata": {},
   "source": [
    "### **`The machine learning tsunami`**\n",
    "### **`Geoffrey E. Hinton`**\n",
    "\n",
    "- **[Who is Geoffrey?](https://www.cs.toronto.edu/~hinton/)**\n",
    "- **[CV Geoffrey E. Hinton](https://www.cs.toronto.edu/~hinton/fullcv2023.pdf)**\n",
    "- **[Book - Deep Learning](https://www.deeplearningbook.org/)**\n",
    "- **[Coursera - Course](https://www.cs.toronto.edu/~hinton/coursera_lectures.html)**\n",
    "- **[Web side](https://www.cs.toronto.edu/~hinton/)**"
   ]
  },
  {
   "cell_type": "markdown",
   "metadata": {},
   "source": [
    "### **`Resources and Prerequisites`**\n",
    "\n",
    "- **[Repository on GitHub](https://github.com/ageron/handson-ml2)**\n",
    "- **[Python](https://learnpython.org/)**\n",
    "- **[Numpy](https://numpy.org/)**\n",
    "- **[Pandas](https://pandas.pydata.org/)**\n",
    "- **[Matplotlib](https://matplotlib.org/)**\n"
   ]
  },
  {
   "cell_type": "markdown",
   "metadata": {},
   "source": [
    "### **`Recomended Courses`**\n",
    "\n",
    "- **[Andrew Ng’s - Machine Learning](https://www.coursera.org/learn/machine-learning/)**\n",
    "- **[Andrew Ng’s - Neural Networks and Deep Learning](https://www.coursera.org/learn/neural-networks-deep-learning)**\n",
    "- **[Scikit-Learn - User Guide](https://scikit-learn.org/stable/user_guide.html)**\n"
   ]
  }
 ],
 "metadata": {
  "kernelspec": {
   "display_name": "env",
   "language": "python",
   "name": "python3"
  },
  "language_info": {
   "name": "python",
   "version": "3.10.12"
  }
 },
 "nbformat": 4,
 "nbformat_minor": 2
}
